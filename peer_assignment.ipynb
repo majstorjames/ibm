{
 "cells": [
  {
   "attachments": {},
   "cell_type": "markdown",
   "metadata": {},
   "source": [
    "# My Jupyter Notebook on IBM Watson Studio"
   ]
  },
  {
   "attachments": {},
   "cell_type": "markdown",
   "metadata": {},
   "source": [
    "<strong>Jamey Y.</strong>\n"
   ]
  },
  {
   "attachments": {},
   "cell_type": "markdown",
   "metadata": {},
   "source": [
    "<p>Aspiring Data Scientist</p>\n"
   ]
  },
  {
   "attachments": {},
   "cell_type": "markdown",
   "metadata": {},
   "source": [
    "<em>I love coding and all things that stimulate the mind</em>"
   ]
  },
  {
   "attachments": {},
   "cell_type": "markdown",
   "metadata": {},
   "source": [
    "<h3>My code is a simple loop through the days of the week</h3>"
   ]
  },
  {
   "cell_type": "code",
   "execution_count": 1,
   "metadata": {},
   "outputs": [
    {
     "name": "stdout",
     "output_type": "stream",
     "text": [
      "Monday\n",
      "Tuesday\n",
      "Wednesday\n",
      "Thursday\n",
      "Friday\n",
      "Saturday\n",
      "Sunday\n"
     ]
    }
   ],
   "source": [
    "week =[\"Monday\",\"Tuesday\",\"Wednesday\",\"Thursday\",\"Friday\",\"Saturday\",\"Sunday\"]\n",
    "\n",
    "for day in week:\n",
    "  print(day)"
   ]
  },
  {
   "attachments": {},
   "cell_type": "markdown",
   "metadata": {},
   "source": [
    "<h4>Unordered list</h4>\n",
    "<ul>\n",
    "<li>one</li>\n",
    "<li>two</li>\n",
    "<li>three</li>\n",
    "</ul>\n",
    "\n",
    "\n",
    "  \n",
    "<h4>Ordered list</h4>\n",
    "<ul>\n",
    "<li>one</li>\n",
    "<li>two</li>\n",
    "<li>three</li>\n",
    "</ul>\n",
    "\n",
    "<h4>Image</h4>\n",
    "<img src=\"https://i.redd.it/fwl4bvdbbcu51.jpg\" >\n",
    "\n",
    "\n",
    "\n"
   ]
  },
  {
   "cell_type": "markdown",
   "metadata": {},
   "source": []
  }
 ],
 "metadata": {
  "kernelspec": {
   "display_name": "base",
   "language": "python",
   "name": "python3"
  },
  "language_info": {
   "codemirror_mode": {
    "name": "ipython",
    "version": 3
   },
   "file_extension": ".py",
   "mimetype": "text/x-python",
   "name": "python",
   "nbconvert_exporter": "python",
   "pygments_lexer": "ipython3",
   "version": "3.9.13"
  },
  "orig_nbformat": 4,
  "vscode": {
   "interpreter": {
    "hash": "f9dc1784e16b61a57d98b4aa5fe4f88bf34b7923419a9672ab5a4e8645e49a3b"
   }
  }
 },
 "nbformat": 4,
 "nbformat_minor": 2
}
